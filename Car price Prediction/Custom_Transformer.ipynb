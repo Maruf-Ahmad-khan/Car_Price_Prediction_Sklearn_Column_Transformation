{
 "cells": [
  {
   "cell_type": "markdown",
   "metadata": {},
   "source": [
    "# Custom Estimator"
   ]
  },
  {
   "cell_type": "code",
   "execution_count": 1,
   "metadata": {},
   "outputs": [
    {
     "name": "stdout",
     "output_type": "stream",
     "text": [
      "Predicted class for all test instances: 1\n"
     ]
    }
   ],
   "source": [
    "from sklearn.base import BaseEstimator, ClassifierMixin\n",
    "import numpy as np\n",
    "from sklearn.utils import check_X_y\n",
    "\n",
    "class MostFrequentClassifier(BaseEstimator, ClassifierMixin):\n",
    "    def __init__(self):\n",
    "        self.most_frequent_ = None\n",
    "\n",
    "    def fit(self, X, y):\n",
    "        # Validate the inputs\n",
    "        X, y = check_X_y(X, y)\n",
    "        y = np.ravel(y)\n",
    "        \n",
    "        # Find the most frequent class in y\n",
    "        unique_classes, counts = np.unique(y, return_counts=True)\n",
    "        self.most_frequent_ = unique_classes[np.argmax(counts)]  # Select most frequent class\n",
    "        \n",
    "        return self\n",
    "\n",
    "    def predict(self, X):\n",
    "        if self.most_frequent_ is None:\n",
    "            raise ValueError(\"This classifier instance is not fitted yet.\")\n",
    "        \n",
    "        # Predict the most frequent class for all instances\n",
    "        return np.full(shape=(X.shape[0],), fill_value=self.most_frequent_)\n",
    "\n",
    "# Test the classifier\n",
    "from sklearn.model_selection import train_test_split\n",
    "from sklearn.datasets import load_iris\n",
    "\n",
    "iris = load_iris()\n",
    "X, y = iris.data, iris.target\n",
    "\n",
    "X_train, X_test, y_train, y_test = train_test_split(X, y, random_state=42)\n",
    "classifier = MostFrequentClassifier()\n",
    "classifier.fit(X_train, y_train)\n",
    "predictions = classifier.predict(X_test)\n",
    "\n",
    "print(f\"Predicted class for all test instances: {predictions[0]}\")\n"
   ]
  },
  {
   "cell_type": "code",
   "execution_count": 2,
   "metadata": {},
   "outputs": [
    {
     "data": {
      "text/html": [
       "<div>\n",
       "<style scoped>\n",
       "    .dataframe tbody tr th:only-of-type {\n",
       "        vertical-align: middle;\n",
       "    }\n",
       "\n",
       "    .dataframe tbody tr th {\n",
       "        vertical-align: top;\n",
       "    }\n",
       "\n",
       "    .dataframe thead th {\n",
       "        text-align: right;\n",
       "    }\n",
       "</style>\n",
       "<table border=\"1\" class=\"dataframe\">\n",
       "  <thead>\n",
       "    <tr style=\"text-align: right;\">\n",
       "      <th></th>\n",
       "      <th>crop ID</th>\n",
       "      <th>soil_type</th>\n",
       "      <th>Seedling Stage</th>\n",
       "      <th>MOI</th>\n",
       "      <th>temp</th>\n",
       "      <th>humidity</th>\n",
       "      <th>result</th>\n",
       "    </tr>\n",
       "  </thead>\n",
       "  <tbody>\n",
       "    <tr>\n",
       "      <th>0</th>\n",
       "      <td>Wheat</td>\n",
       "      <td>Black Soil</td>\n",
       "      <td>Germination</td>\n",
       "      <td>1</td>\n",
       "      <td>25</td>\n",
       "      <td>80.0</td>\n",
       "      <td>1</td>\n",
       "    </tr>\n",
       "    <tr>\n",
       "      <th>1</th>\n",
       "      <td>Wheat</td>\n",
       "      <td>Black Soil</td>\n",
       "      <td>Germination</td>\n",
       "      <td>2</td>\n",
       "      <td>26</td>\n",
       "      <td>77.0</td>\n",
       "      <td>1</td>\n",
       "    </tr>\n",
       "  </tbody>\n",
       "</table>\n",
       "</div>"
      ],
      "text/plain": [
       "  crop ID   soil_type Seedling Stage  MOI  temp  humidity  result\n",
       "0   Wheat  Black Soil    Germination    1    25      80.0       1\n",
       "1   Wheat  Black Soil    Germination    2    26      77.0       1"
      ]
     },
     "execution_count": 2,
     "metadata": {},
     "output_type": "execute_result"
    }
   ],
   "source": [
    "import pandas as pd\n",
    "data = pd.read_csv(r\"C:\\Users\\mk744\\OneDrive - Poornima University\\Desktop\\cropdata_updated.csv\")\n",
    "data.head(2)"
   ]
  },
  {
   "cell_type": "code",
   "execution_count": 3,
   "metadata": {},
   "outputs": [
    {
     "data": {
      "text/plain": [
       "0    9062\n",
       "1    6227\n",
       "2    1122\n",
       "Name: result, dtype: int64"
      ]
     },
     "execution_count": 3,
     "metadata": {},
     "output_type": "execute_result"
    }
   ],
   "source": [
    "data['result'].value_counts()"
   ]
  },
  {
   "cell_type": "code",
   "execution_count": 4,
   "metadata": {},
   "outputs": [
    {
     "name": "stdout",
     "output_type": "stream",
     "text": [
      "Predicted class for all test instances: 0\n"
     ]
    }
   ],
   "source": [
    "class MostFrequentCassifier(BaseEstimator, ClassifierMixin):\n",
    "     def __init__(self):\n",
    "          self.most_frequent_ = None\n",
    "          \n",
    "     def fit(self,X, y):\n",
    "          X , y = check_X_y(X, y)\n",
    "          y = np.ravel(y)\n",
    "          \n",
    "          unique_calsses, counts = np.unique(y, return_counts = True)\n",
    "          self.most_frequent_ = unique_calsses[np.argmax(counts)]\n",
    "          return self\n",
    "     \n",
    "     def predict(self, X):\n",
    "          if self.most_frequent_ is None:\n",
    "               raise ValueError(\"This instance is not predict yet.\")\n",
    "          return np.full(shape = (X.shape[0],), fill_value = self.most_frequent_\n",
    "                         )\n",
    "          \n",
    "          \n",
    "import pandas as pd\n",
    "df = pd.read_csv(r\"C:\\Users\\mk744\\OneDrive - Poornima University\\Desktop\\cropdata_updated.csv\")\n",
    "X , y = df['humidity'].values.reshape(-1, 1), df['result']\n",
    "X_train, X_test, y_train, y_test = train_test_split(X, y, random_state=42)\n",
    "Classifier = MostFrequentCassifier()\n",
    "Classifier.fit(X_train, y_train)\n",
    "Predictions = Classifier.predict(X_test)\n",
    "\n",
    "print(f\"Predicted class for all test instances: {Predictions[0]}\")\n",
    "     "
   ]
  },
  {
   "cell_type": "code",
   "execution_count": 5,
   "metadata": {},
   "outputs": [
    {
     "data": {
      "text/plain": [
       "0"
      ]
     },
     "execution_count": 5,
     "metadata": {},
     "output_type": "execute_result"
    }
   ],
   "source": [
    "Classifier.most_frequent_"
   ]
  },
  {
   "cell_type": "code",
   "execution_count": 6,
   "metadata": {},
   "outputs": [
    {
     "data": {
      "text/plain": [
       "array([0.55077173, 0.55077173, 0.55077173, 0.55099553, 0.55099553])"
      ]
     },
     "execution_count": 6,
     "metadata": {},
     "output_type": "execute_result"
    }
   ],
   "source": [
    "from sklearn.model_selection import cross_val_score\n",
    "cross_val_score(Classifier, X_train, y_train)"
   ]
  },
  {
   "cell_type": "markdown",
   "metadata": {},
   "source": [
    "# Scoing Function"
   ]
  },
  {
   "cell_type": "code",
   "execution_count": 7,
   "metadata": {},
   "outputs": [],
   "source": [
    "from sklearn.base import BaseEstimator, ClassifierMixin\n",
    "from sklearn.metrics import accuracy_score\n",
    "import numpy as np"
   ]
  },
  {
   "cell_type": "code",
   "execution_count": 8,
   "metadata": {},
   "outputs": [
    {
     "name": "stdout",
     "output_type": "stream",
     "text": [
      "Accuracy of the MostfrequentClassifier: 0.4\n"
     ]
    }
   ],
   "source": [
    "class MostFrequentCassifier(BaseEstimator, ClassifierMixin):\n",
    "     def __init__(self):\n",
    "          self.most_frequent_ = None\n",
    "          \n",
    "     def fit(self, X, y):\n",
    "          y = np.ravel(y)\n",
    "          unique_classes, counts = np.unique(y, return_counts=True)\n",
    "          self.most_frequent_ = unique_classes[np.argmax(counts)]\n",
    "          return self\n",
    "     \n",
    "     def predict(self, X):\n",
    "          if self.most_frequent_ is None:\n",
    "               raise ValueError(\"This classifier instance is not fitted yet.\")\n",
    "          return np.full(shape = (X.shape[0],), fill_value= self.most_frequent_)\n",
    "     \n",
    "     def score(self, X, y):\n",
    "          y = np.ravel(y)\n",
    "          predictions = self.predict(X)\n",
    "          return accuracy_score(y, predictions)\n",
    "     \n",
    "from sklearn.model_selection import train_test_split\n",
    "from sklearn.datasets import load_iris\n",
    "iris = load_iris()\n",
    "X, y = iris.data, iris.target\n",
    "\n",
    "is_class_0_or_1 = y < 2\n",
    "X_bin = X[is_class_0_or_1]\n",
    "y_bin = y[is_class_0_or_1]\n",
    "\n",
    "X_train, X_test, y_train, y_test = train_test_split(X_bin, y_bin, test_size=0.2, random_state=42)\n",
    "classifier = MostFrequentCassifier()\n",
    "classifier.fit(X_train, y_train)\n",
    "\n",
    "score = classifier.score(X_test, y_test)\n",
    "print(f\"Accuracy of the MostfrequentClassifier: {score}\")     "
   ]
  },
  {
   "cell_type": "code",
   "execution_count": 9,
   "metadata": {},
   "outputs": [
    {
     "data": {
      "text/html": [
       "<style>#sk-container-id-1 {color: black;background-color: white;}#sk-container-id-1 pre{padding: 0;}#sk-container-id-1 div.sk-toggleable {background-color: white;}#sk-container-id-1 label.sk-toggleable__label {cursor: pointer;display: block;width: 100%;margin-bottom: 0;padding: 0.3em;box-sizing: border-box;text-align: center;}#sk-container-id-1 label.sk-toggleable__label-arrow:before {content: \"▸\";float: left;margin-right: 0.25em;color: #696969;}#sk-container-id-1 label.sk-toggleable__label-arrow:hover:before {color: black;}#sk-container-id-1 div.sk-estimator:hover label.sk-toggleable__label-arrow:before {color: black;}#sk-container-id-1 div.sk-toggleable__content {max-height: 0;max-width: 0;overflow: hidden;text-align: left;background-color: #f0f8ff;}#sk-container-id-1 div.sk-toggleable__content pre {margin: 0.2em;color: black;border-radius: 0.25em;background-color: #f0f8ff;}#sk-container-id-1 input.sk-toggleable__control:checked~div.sk-toggleable__content {max-height: 200px;max-width: 100%;overflow: auto;}#sk-container-id-1 input.sk-toggleable__control:checked~label.sk-toggleable__label-arrow:before {content: \"▾\";}#sk-container-id-1 div.sk-estimator input.sk-toggleable__control:checked~label.sk-toggleable__label {background-color: #d4ebff;}#sk-container-id-1 div.sk-label input.sk-toggleable__control:checked~label.sk-toggleable__label {background-color: #d4ebff;}#sk-container-id-1 input.sk-hidden--visually {border: 0;clip: rect(1px 1px 1px 1px);clip: rect(1px, 1px, 1px, 1px);height: 1px;margin: -1px;overflow: hidden;padding: 0;position: absolute;width: 1px;}#sk-container-id-1 div.sk-estimator {font-family: monospace;background-color: #f0f8ff;border: 1px dotted black;border-radius: 0.25em;box-sizing: border-box;margin-bottom: 0.5em;}#sk-container-id-1 div.sk-estimator:hover {background-color: #d4ebff;}#sk-container-id-1 div.sk-parallel-item::after {content: \"\";width: 100%;border-bottom: 1px solid gray;flex-grow: 1;}#sk-container-id-1 div.sk-label:hover label.sk-toggleable__label {background-color: #d4ebff;}#sk-container-id-1 div.sk-serial::before {content: \"\";position: absolute;border-left: 1px solid gray;box-sizing: border-box;top: 0;bottom: 0;left: 50%;z-index: 0;}#sk-container-id-1 div.sk-serial {display: flex;flex-direction: column;align-items: center;background-color: white;padding-right: 0.2em;padding-left: 0.2em;position: relative;}#sk-container-id-1 div.sk-item {position: relative;z-index: 1;}#sk-container-id-1 div.sk-parallel {display: flex;align-items: stretch;justify-content: center;background-color: white;position: relative;}#sk-container-id-1 div.sk-item::before, #sk-container-id-1 div.sk-parallel-item::before {content: \"\";position: absolute;border-left: 1px solid gray;box-sizing: border-box;top: 0;bottom: 0;left: 50%;z-index: -1;}#sk-container-id-1 div.sk-parallel-item {display: flex;flex-direction: column;z-index: 1;position: relative;background-color: white;}#sk-container-id-1 div.sk-parallel-item:first-child::after {align-self: flex-end;width: 50%;}#sk-container-id-1 div.sk-parallel-item:last-child::after {align-self: flex-start;width: 50%;}#sk-container-id-1 div.sk-parallel-item:only-child::after {width: 0;}#sk-container-id-1 div.sk-dashed-wrapped {border: 1px dashed gray;margin: 0 0.4em 0.5em 0.4em;box-sizing: border-box;padding-bottom: 0.4em;background-color: white;}#sk-container-id-1 div.sk-label label {font-family: monospace;font-weight: bold;display: inline-block;line-height: 1.2em;}#sk-container-id-1 div.sk-label-container {text-align: center;}#sk-container-id-1 div.sk-container {/* jupyter's `normalize.less` sets `[hidden] { display: none; }` but bootstrap.min.css set `[hidden] { display: none !important; }` so we also need the `!important` here to be able to override the default hidden behavior on the sphinx rendered scikit-learn.org. See: https://github.com/scikit-learn/scikit-learn/issues/21755 */display: inline-block !important;position: relative;}#sk-container-id-1 div.sk-text-repr-fallback {display: none;}</style><div id=\"sk-container-id-1\" class=\"sk-top-container\"><div class=\"sk-text-repr-fallback\"><pre>LinearRegression()</pre><b>In a Jupyter environment, please rerun this cell to show the HTML representation or trust the notebook. <br />On GitHub, the HTML representation is unable to render, please try loading this page with nbviewer.org.</b></div><div class=\"sk-container\" hidden><div class=\"sk-item\"><div class=\"sk-estimator sk-toggleable\"><input class=\"sk-toggleable__control sk-hidden--visually\" id=\"sk-estimator-id-1\" type=\"checkbox\" checked><label for=\"sk-estimator-id-1\" class=\"sk-toggleable__label sk-toggleable__label-arrow\">LinearRegression</label><div class=\"sk-toggleable__content\"><pre>LinearRegression()</pre></div></div></div></div></div>"
      ],
      "text/plain": [
       "LinearRegression()"
      ]
     },
     "execution_count": 9,
     "metadata": {},
     "output_type": "execute_result"
    }
   ],
   "source": [
    "from sklearn.datasets import make_regression\n",
    "from sklearn.pipeline import Pipeline\n",
    "from sklearn.linear_model import LinearRegression\n",
    "from sklearn.preprocessing import StandardScaler\n",
    "\n",
    "X, y = make_regression(n_samples=100, n_features= 2, noise = 0.1, random_state=42)\n",
    "X_transformed = StandardScaler().fit_transform(X)\n",
    "LinearRegression().fit(X_transformed, y)"
   ]
  },
  {
   "cell_type": "markdown",
   "metadata": {},
   "source": [
    "# Custom Transformer using BaseEstimator and TransformerMixin"
   ]
  },
  {
   "cell_type": "code",
   "execution_count": 10,
   "metadata": {},
   "outputs": [
    {
     "name": "stdout",
     "output_type": "stream",
     "text": [
      "Transformed data (first 5 rows) :\n",
      "[[-0.49872679 -0.71613207]\n",
      " [ 0.78423675 -0.08192868]\n",
      " [-0.03656645  0.52987512]\n",
      " [ 0.84159877 -0.09379661]\n",
      " [-0.3814692  -0.57206564]]\n"
     ]
    }
   ],
   "source": [
    "from sklearn.base import BaseEstimator, TransformerMixin\n",
    "import numpy as np\n",
    "class MedianIQRScalar(BaseEstimator, TransformerMixin):\n",
    "     def __init__(self):\n",
    "          self.medians_ = None\n",
    "          self.iqr_ = None\n",
    "          \n",
    "     def fit(self, X, y = None):\n",
    "          self.medians_ = np.median(X, axis = 0)\n",
    "          Q1 = np.percentile(X, 25, axis = 0)\n",
    "          Q3 = np.percentile(X, 75, axis = 0)\n",
    "          self.iqr_ =   Q3 - Q1\n",
    "          \n",
    "          self.iqr_[self.iqr_ == 0] = 1\n",
    "          return self\n",
    "     \n",
    "     def transform(self, X):\n",
    "          if self.medians_ is None or self.iqr_ is None:\n",
    "               raise RuntimeError(\"This transformer has not been fitted yet.\")\n",
    "          return (X - self.medians_) / self.iqr_\n",
    "     \n",
    "     \n",
    "from sklearn.datasets import make_blobs\n",
    "X, _ = make_blobs(n_samples= 100, n_features=2, centers=3, random_state=42)\n",
    "scaler = MedianIQRScalar()\n",
    "scaler.fit(X)\n",
    "X_scaled = scaler.transform(X)\n",
    "print(\"Transformed data (first 5 rows) :\")\n",
    "print(X_scaled[:5])\n",
    "     "
   ]
  },
  {
   "cell_type": "code",
   "execution_count": 11,
   "metadata": {},
   "outputs": [
    {
     "data": {
      "text/plain": [
       "Index(['Campaign_Name_Partner_Hyyzo', 'Amount_Partner_Hyyzo',\n",
       "       'Payout_Partner_Hyyzo', 'Date_Partner_Hyyzo', 'CK_Payout', 'HY_Payout'],\n",
       "      dtype='object')"
      ]
     },
     "execution_count": 11,
     "metadata": {},
     "output_type": "execute_result"
    }
   ],
   "source": [
    "data = pd.read_excel(r'C:\\personal\\Sklearn_And_Python_For_Interview\\Flipkart_data.xlsx')\n",
    "data.columns"
   ]
  },
  {
   "cell_type": "code",
   "execution_count": 12,
   "metadata": {},
   "outputs": [
    {
     "data": {
      "text/html": [
       "<div>\n",
       "<style scoped>\n",
       "    .dataframe tbody tr th:only-of-type {\n",
       "        vertical-align: middle;\n",
       "    }\n",
       "\n",
       "    .dataframe tbody tr th {\n",
       "        vertical-align: top;\n",
       "    }\n",
       "\n",
       "    .dataframe thead th {\n",
       "        text-align: right;\n",
       "    }\n",
       "</style>\n",
       "<table border=\"1\" class=\"dataframe\">\n",
       "  <thead>\n",
       "    <tr style=\"text-align: right;\">\n",
       "      <th></th>\n",
       "      <th>Campaign_Name_Partner_Hyyzo</th>\n",
       "      <th>Amount_Partner_Hyyzo</th>\n",
       "      <th>Payout_Partner_Hyyzo</th>\n",
       "      <th>Date_Partner_Hyyzo</th>\n",
       "      <th>CK_Payout</th>\n",
       "      <th>HY_Payout</th>\n",
       "    </tr>\n",
       "  </thead>\n",
       "  <tbody>\n",
       "    <tr>\n",
       "      <th>0</th>\n",
       "      <td>Flipkart [CPS] IN</td>\n",
       "      <td>257</td>\n",
       "      <td>4.52</td>\n",
       "      <td>2024-10-19</td>\n",
       "      <td>4.017778</td>\n",
       "      <td>4.268889</td>\n",
       "    </tr>\n",
       "    <tr>\n",
       "      <th>1</th>\n",
       "      <td>Flipkart [CPS] IN</td>\n",
       "      <td>279</td>\n",
       "      <td>7.19</td>\n",
       "      <td>2024-10-19</td>\n",
       "      <td>6.391111</td>\n",
       "      <td>6.790556</td>\n",
       "    </tr>\n",
       "    <tr>\n",
       "      <th>2</th>\n",
       "      <td>Flipkart [CPS] IN</td>\n",
       "      <td>71</td>\n",
       "      <td>1.80</td>\n",
       "      <td>2024-10-19</td>\n",
       "      <td>1.600000</td>\n",
       "      <td>1.700000</td>\n",
       "    </tr>\n",
       "    <tr>\n",
       "      <th>3</th>\n",
       "      <td>Flipkart [CPS] IN</td>\n",
       "      <td>369</td>\n",
       "      <td>9.92</td>\n",
       "      <td>2024-10-19</td>\n",
       "      <td>8.817778</td>\n",
       "      <td>9.368889</td>\n",
       "    </tr>\n",
       "    <tr>\n",
       "      <th>4</th>\n",
       "      <td>Flipkart [CPS] IN</td>\n",
       "      <td>579</td>\n",
       "      <td>10.82</td>\n",
       "      <td>2024-10-19</td>\n",
       "      <td>9.617778</td>\n",
       "      <td>10.218889</td>\n",
       "    </tr>\n",
       "  </tbody>\n",
       "</table>\n",
       "</div>"
      ],
      "text/plain": [
       "  Campaign_Name_Partner_Hyyzo  Amount_Partner_Hyyzo  Payout_Partner_Hyyzo  \\\n",
       "0           Flipkart [CPS] IN                   257                  4.52   \n",
       "1           Flipkart [CPS] IN                   279                  7.19   \n",
       "2           Flipkart [CPS] IN                    71                  1.80   \n",
       "3           Flipkart [CPS] IN                   369                  9.92   \n",
       "4           Flipkart [CPS] IN                   579                 10.82   \n",
       "\n",
       "  Date_Partner_Hyyzo  CK_Payout  HY_Payout  \n",
       "0         2024-10-19   4.017778   4.268889  \n",
       "1         2024-10-19   6.391111   6.790556  \n",
       "2         2024-10-19   1.600000   1.700000  \n",
       "3         2024-10-19   8.817778   9.368889  \n",
       "4         2024-10-19   9.617778  10.218889  "
      ]
     },
     "execution_count": 12,
     "metadata": {},
     "output_type": "execute_result"
    }
   ],
   "source": [
    "data.head()"
   ]
  },
  {
   "cell_type": "code",
   "execution_count": 13,
   "metadata": {},
   "outputs": [
    {
     "name": "stdout",
     "output_type": "stream",
     "text": [
      "This instance consist of : 0.9\n"
     ]
    }
   ],
   "source": [
    "class MostFrequentCassifier(BaseEstimator, ClassifierMixin):\n",
    "     def __int__(self):\n",
    "          self.most_frequent_ = None\n",
    "          \n",
    "     def fit(self, X, y):\n",
    "          X, y = check_X_y(X, y)\n",
    "          y = np.ravel(y)\n",
    "          \n",
    "          unique_classes, counts = np.unique(y, return_counts=True)\n",
    "          self.most_frequent_ = unique_classes[np.argmax(counts)]\n",
    "          return self\n",
    "     \n",
    "     def predict(self, X):\n",
    "          if self.most_frequent_ is None:\n",
    "               raise ValueError(\"This instance is not predicting anything: \")\n",
    "          \n",
    "          return np.full(shape=(X.shape[0],), fill_value=self.most_frequent_)\n",
    "     \n",
    "     \n",
    "     \n",
    "data = pd.read_excel(r'C:\\personal\\Sklearn_And_Python_For_Interview\\Flipkart_data.xlsx')\n",
    "X, y = data['Amount_Partner_Hyyzo'].values.reshape(-1, 1), data['Payout_Partner_Hyyzo']\n",
    "X_train, X_test, y_train, y_test = train_test_split(X, y, random_state=42)\n",
    "sol = MostFrequentCassifier()\n",
    "sol.fit(X_train, y_train)\n",
    "predicter = sol.predict(X_test)\n",
    "print(f\"This instance consist of : {predicter[0]}\")\n"
   ]
  },
  {
   "cell_type": "markdown",
   "metadata": {},
   "source": [
    "# Custom Transformer using Function Transformer"
   ]
  },
  {
   "cell_type": "code",
   "execution_count": 14,
   "metadata": {},
   "outputs": [],
   "source": [
    "def cube(x):\n",
    "     return np.power(x,3)"
   ]
  },
  {
   "cell_type": "code",
   "execution_count": 15,
   "metadata": {},
   "outputs": [],
   "source": [
    "from sklearn.preprocessing import FunctionTransformer\n",
    "cube_transformer = FunctionTransformer(cube)"
   ]
  },
  {
   "cell_type": "code",
   "execution_count": 16,
   "metadata": {},
   "outputs": [
    {
     "data": {
      "text/html": [
       "<style>#sk-container-id-2 {color: black;background-color: white;}#sk-container-id-2 pre{padding: 0;}#sk-container-id-2 div.sk-toggleable {background-color: white;}#sk-container-id-2 label.sk-toggleable__label {cursor: pointer;display: block;width: 100%;margin-bottom: 0;padding: 0.3em;box-sizing: border-box;text-align: center;}#sk-container-id-2 label.sk-toggleable__label-arrow:before {content: \"▸\";float: left;margin-right: 0.25em;color: #696969;}#sk-container-id-2 label.sk-toggleable__label-arrow:hover:before {color: black;}#sk-container-id-2 div.sk-estimator:hover label.sk-toggleable__label-arrow:before {color: black;}#sk-container-id-2 div.sk-toggleable__content {max-height: 0;max-width: 0;overflow: hidden;text-align: left;background-color: #f0f8ff;}#sk-container-id-2 div.sk-toggleable__content pre {margin: 0.2em;color: black;border-radius: 0.25em;background-color: #f0f8ff;}#sk-container-id-2 input.sk-toggleable__control:checked~div.sk-toggleable__content {max-height: 200px;max-width: 100%;overflow: auto;}#sk-container-id-2 input.sk-toggleable__control:checked~label.sk-toggleable__label-arrow:before {content: \"▾\";}#sk-container-id-2 div.sk-estimator input.sk-toggleable__control:checked~label.sk-toggleable__label {background-color: #d4ebff;}#sk-container-id-2 div.sk-label input.sk-toggleable__control:checked~label.sk-toggleable__label {background-color: #d4ebff;}#sk-container-id-2 input.sk-hidden--visually {border: 0;clip: rect(1px 1px 1px 1px);clip: rect(1px, 1px, 1px, 1px);height: 1px;margin: -1px;overflow: hidden;padding: 0;position: absolute;width: 1px;}#sk-container-id-2 div.sk-estimator {font-family: monospace;background-color: #f0f8ff;border: 1px dotted black;border-radius: 0.25em;box-sizing: border-box;margin-bottom: 0.5em;}#sk-container-id-2 div.sk-estimator:hover {background-color: #d4ebff;}#sk-container-id-2 div.sk-parallel-item::after {content: \"\";width: 100%;border-bottom: 1px solid gray;flex-grow: 1;}#sk-container-id-2 div.sk-label:hover label.sk-toggleable__label {background-color: #d4ebff;}#sk-container-id-2 div.sk-serial::before {content: \"\";position: absolute;border-left: 1px solid gray;box-sizing: border-box;top: 0;bottom: 0;left: 50%;z-index: 0;}#sk-container-id-2 div.sk-serial {display: flex;flex-direction: column;align-items: center;background-color: white;padding-right: 0.2em;padding-left: 0.2em;position: relative;}#sk-container-id-2 div.sk-item {position: relative;z-index: 1;}#sk-container-id-2 div.sk-parallel {display: flex;align-items: stretch;justify-content: center;background-color: white;position: relative;}#sk-container-id-2 div.sk-item::before, #sk-container-id-2 div.sk-parallel-item::before {content: \"\";position: absolute;border-left: 1px solid gray;box-sizing: border-box;top: 0;bottom: 0;left: 50%;z-index: -1;}#sk-container-id-2 div.sk-parallel-item {display: flex;flex-direction: column;z-index: 1;position: relative;background-color: white;}#sk-container-id-2 div.sk-parallel-item:first-child::after {align-self: flex-end;width: 50%;}#sk-container-id-2 div.sk-parallel-item:last-child::after {align-self: flex-start;width: 50%;}#sk-container-id-2 div.sk-parallel-item:only-child::after {width: 0;}#sk-container-id-2 div.sk-dashed-wrapped {border: 1px dashed gray;margin: 0 0.4em 0.5em 0.4em;box-sizing: border-box;padding-bottom: 0.4em;background-color: white;}#sk-container-id-2 div.sk-label label {font-family: monospace;font-weight: bold;display: inline-block;line-height: 1.2em;}#sk-container-id-2 div.sk-label-container {text-align: center;}#sk-container-id-2 div.sk-container {/* jupyter's `normalize.less` sets `[hidden] { display: none; }` but bootstrap.min.css set `[hidden] { display: none !important; }` so we also need the `!important` here to be able to override the default hidden behavior on the sphinx rendered scikit-learn.org. See: https://github.com/scikit-learn/scikit-learn/issues/21755 */display: inline-block !important;position: relative;}#sk-container-id-2 div.sk-text-repr-fallback {display: none;}</style><div id=\"sk-container-id-2\" class=\"sk-top-container\"><div class=\"sk-text-repr-fallback\"><pre>LinearRegression()</pre><b>In a Jupyter environment, please rerun this cell to show the HTML representation or trust the notebook. <br />On GitHub, the HTML representation is unable to render, please try loading this page with nbviewer.org.</b></div><div class=\"sk-container\" hidden><div class=\"sk-item\"><div class=\"sk-estimator sk-toggleable\"><input class=\"sk-toggleable__control sk-hidden--visually\" id=\"sk-estimator-id-2\" type=\"checkbox\" checked><label for=\"sk-estimator-id-2\" class=\"sk-toggleable__label sk-toggleable__label-arrow\">LinearRegression</label><div class=\"sk-toggleable__content\"><pre>LinearRegression()</pre></div></div></div></div></div>"
      ],
      "text/plain": [
       "LinearRegression()"
      ]
     },
     "execution_count": 16,
     "metadata": {},
     "output_type": "execute_result"
    }
   ],
   "source": [
    "from sklearn.datasets import make_regression\n",
    "from sklearn.pipeline import Pipeline\n",
    "from sklearn.linear_model import LinearRegression\n",
    "from sklearn.preprocessing import StandardScaler\n",
    "X, y = make_regression(n_samples=100, n_features=2, noise=0.1, random_state=42)\n",
    "X_transformed = cube_transformer.transform(X)\n",
    "LinearRegression().fit(X_transformed, y)"
   ]
  },
  {
   "cell_type": "markdown",
   "metadata": {},
   "source": [
    "# Custom Transformer using BaseEstimator and TransformerMixin"
   ]
  },
  {
   "cell_type": "code",
   "execution_count": 17,
   "metadata": {},
   "outputs": [],
   "source": [
    "class Median_IQR_Scaler(BaseEstimator, TransformerMixin):\n",
    "     def __init__(self):\n",
    "          self.median_ = None\n",
    "          self.iqr_ = None\n",
    "          \n",
    "     def fit(self, X, y = None):\n",
    "          self.median_ = np.median(X, axis=0)\n",
    "          Q1 = np.percentile(X, 25, axis = 0)\n",
    "          Q3 = np.percentile(X, 75, axis = 0)\n",
    "          self.iqr_ = Q3 - Q1\n",
    "          self.iqr_[self.iqr_ == 0] = 1\n",
    "          return self\n",
    "     \n",
    "     def transform(self, X):\n",
    "          if self.median_ is None or self.iqr_ is None:\n",
    "               raise RuntimeError(\"The transformer has not been fitted yet.\")\n",
    "          return (X - self.median_) / self.iqr_"
   ]
  },
  {
   "cell_type": "code",
   "execution_count": 18,
   "metadata": {},
   "outputs": [
    {
     "name": "stdout",
     "output_type": "stream",
     "text": [
      "Transformed data (first 5 rows) :\n",
      "[[-0.49872679 -0.71613207]\n",
      " [ 0.78423675 -0.08192868]\n",
      " [-0.03656645  0.52987512]\n",
      " [ 0.84159877 -0.09379661]\n",
      " [-0.3814692  -0.57206564]]\n"
     ]
    }
   ],
   "source": [
    "X, _ = make_blobs(n_samples= 100, n_features=2, centers = 3, random_state=42)\n",
    "\n",
    "scaler = Median_IQR_Scaler()\n",
    "scaler.fit(X)\n",
    "X_scaled = scaler.transform(X)\n",
    "print(\"Transformed data (first 5 rows) :\")\n",
    "print(X_scaled[:5])"
   ]
  },
  {
   "cell_type": "markdown",
   "metadata": {},
   "source": [
    "# Feature Union"
   ]
  },
  {
   "cell_type": "code",
   "execution_count": 19,
   "metadata": {},
   "outputs": [
    {
     "data": {
      "text/html": [
       "<div>\n",
       "<style scoped>\n",
       "    .dataframe tbody tr th:only-of-type {\n",
       "        vertical-align: middle;\n",
       "    }\n",
       "\n",
       "    .dataframe tbody tr th {\n",
       "        vertical-align: top;\n",
       "    }\n",
       "\n",
       "    .dataframe thead th {\n",
       "        text-align: right;\n",
       "    }\n",
       "</style>\n",
       "<table border=\"1\" class=\"dataframe\">\n",
       "  <thead>\n",
       "    <tr style=\"text-align: right;\">\n",
       "      <th></th>\n",
       "      <th>f1</th>\n",
       "      <th>f2</th>\n",
       "      <th>f3</th>\n",
       "      <th>y</th>\n",
       "    </tr>\n",
       "  </thead>\n",
       "  <tbody>\n",
       "    <tr>\n",
       "      <th>0</th>\n",
       "      <td>0.374540</td>\n",
       "      <td>0.950714</td>\n",
       "      <td>0.731994</td>\n",
       "      <td>0.598658</td>\n",
       "    </tr>\n",
       "    <tr>\n",
       "      <th>1</th>\n",
       "      <td>0.156019</td>\n",
       "      <td>0.155995</td>\n",
       "      <td>0.058084</td>\n",
       "      <td>0.866176</td>\n",
       "    </tr>\n",
       "    <tr>\n",
       "      <th>2</th>\n",
       "      <td>0.601115</td>\n",
       "      <td>0.708073</td>\n",
       "      <td>0.020584</td>\n",
       "      <td>0.969910</td>\n",
       "    </tr>\n",
       "    <tr>\n",
       "      <th>3</th>\n",
       "      <td>0.832443</td>\n",
       "      <td>0.212339</td>\n",
       "      <td>0.181825</td>\n",
       "      <td>0.183405</td>\n",
       "    </tr>\n",
       "    <tr>\n",
       "      <th>4</th>\n",
       "      <td>0.304242</td>\n",
       "      <td>0.524756</td>\n",
       "      <td>0.431945</td>\n",
       "      <td>0.291229</td>\n",
       "    </tr>\n",
       "    <tr>\n",
       "      <th>5</th>\n",
       "      <td>0.611853</td>\n",
       "      <td>0.139494</td>\n",
       "      <td>0.292145</td>\n",
       "      <td>0.366362</td>\n",
       "    </tr>\n",
       "    <tr>\n",
       "      <th>6</th>\n",
       "      <td>0.456070</td>\n",
       "      <td>0.785176</td>\n",
       "      <td>0.199674</td>\n",
       "      <td>0.514234</td>\n",
       "    </tr>\n",
       "    <tr>\n",
       "      <th>7</th>\n",
       "      <td>0.592415</td>\n",
       "      <td>0.046450</td>\n",
       "      <td>0.607545</td>\n",
       "      <td>0.170524</td>\n",
       "    </tr>\n",
       "    <tr>\n",
       "      <th>8</th>\n",
       "      <td>0.065052</td>\n",
       "      <td>0.948886</td>\n",
       "      <td>0.965632</td>\n",
       "      <td>0.808397</td>\n",
       "    </tr>\n",
       "    <tr>\n",
       "      <th>9</th>\n",
       "      <td>0.304614</td>\n",
       "      <td>0.097672</td>\n",
       "      <td>0.684233</td>\n",
       "      <td>0.440152</td>\n",
       "    </tr>\n",
       "  </tbody>\n",
       "</table>\n",
       "</div>"
      ],
      "text/plain": [
       "         f1        f2        f3         y\n",
       "0  0.374540  0.950714  0.731994  0.598658\n",
       "1  0.156019  0.155995  0.058084  0.866176\n",
       "2  0.601115  0.708073  0.020584  0.969910\n",
       "3  0.832443  0.212339  0.181825  0.183405\n",
       "4  0.304242  0.524756  0.431945  0.291229\n",
       "5  0.611853  0.139494  0.292145  0.366362\n",
       "6  0.456070  0.785176  0.199674  0.514234\n",
       "7  0.592415  0.046450  0.607545  0.170524\n",
       "8  0.065052  0.948886  0.965632  0.808397\n",
       "9  0.304614  0.097672  0.684233  0.440152"
      ]
     },
     "execution_count": 19,
     "metadata": {},
     "output_type": "execute_result"
    }
   ],
   "source": [
    "np.random.seed(42)\n",
    "data = np.random.rand(10, 4)\n",
    "df = pd.DataFrame(data, columns=['f1', 'f2', 'f3', 'y'])\n",
    "df"
   ]
  },
  {
   "cell_type": "code",
   "execution_count": 20,
   "metadata": {},
   "outputs": [],
   "source": [
    "from sklearn.pipeline import FeatureUnion\n",
    "from sklearn.decomposition import PCA\n",
    "feature_union = FeatureUnion([\n",
    "     ('scaler', StandardScaler()),\n",
    "     ('pca', PCA(n_components=2))\n",
    "])"
   ]
  },
  {
   "cell_type": "code",
   "execution_count": 21,
   "metadata": {},
   "outputs": [
    {
     "data": {
      "text/html": [
       "<div>\n",
       "<style scoped>\n",
       "    .dataframe tbody tr th:only-of-type {\n",
       "        vertical-align: middle;\n",
       "    }\n",
       "\n",
       "    .dataframe tbody tr th {\n",
       "        vertical-align: top;\n",
       "    }\n",
       "\n",
       "    .dataframe thead th {\n",
       "        text-align: right;\n",
       "    }\n",
       "</style>\n",
       "<table border=\"1\" class=\"dataframe\">\n",
       "  <thead>\n",
       "    <tr style=\"text-align: right;\">\n",
       "      <th></th>\n",
       "      <th>scaler__f1</th>\n",
       "      <th>scaler__f2</th>\n",
       "      <th>scaler__f3</th>\n",
       "      <th>pca__pca0</th>\n",
       "      <th>pca__pca1</th>\n",
       "    </tr>\n",
       "  </thead>\n",
       "  <tbody>\n",
       "    <tr>\n",
       "      <th>0</th>\n",
       "      <td>-0.248730</td>\n",
       "      <td>1.419472</td>\n",
       "      <td>1.041692</td>\n",
       "      <td>0.566558</td>\n",
       "      <td>0.065238</td>\n",
       "    </tr>\n",
       "    <tr>\n",
       "      <th>1</th>\n",
       "      <td>-1.231671</td>\n",
       "      <td>-0.865211</td>\n",
       "      <td>-1.189537</td>\n",
       "      <td>-0.326067</td>\n",
       "      <td>0.007840</td>\n",
       "    </tr>\n",
       "    <tr>\n",
       "      <th>2</th>\n",
       "      <td>0.770437</td>\n",
       "      <td>0.721919</td>\n",
       "      <td>-1.313692</td>\n",
       "      <td>-0.080872</td>\n",
       "      <td>0.492691</td>\n",
       "    </tr>\n",
       "    <tr>\n",
       "      <th>3</th>\n",
       "      <td>1.810983</td>\n",
       "      <td>-0.703230</td>\n",
       "      <td>-0.779846</td>\n",
       "      <td>-0.456381</td>\n",
       "      <td>0.118928</td>\n",
       "    </tr>\n",
       "    <tr>\n",
       "      <th>4</th>\n",
       "      <td>-0.564940</td>\n",
       "      <td>0.194916</td>\n",
       "      <td>0.048269</td>\n",
       "      <td>0.104292</td>\n",
       "      <td>0.000952</td>\n",
       "    </tr>\n",
       "    <tr>\n",
       "      <th>5</th>\n",
       "      <td>0.818738</td>\n",
       "      <td>-0.912648</td>\n",
       "      <td>-0.414592</td>\n",
       "      <td>-0.374897</td>\n",
       "      <td>-0.062619</td>\n",
       "    </tr>\n",
       "    <tr>\n",
       "      <th>6</th>\n",
       "      <td>0.118004</td>\n",
       "      <td>0.943578</td>\n",
       "      <td>-0.720751</td>\n",
       "      <td>0.125587</td>\n",
       "      <td>0.373463</td>\n",
       "    </tr>\n",
       "    <tr>\n",
       "      <th>7</th>\n",
       "      <td>0.731301</td>\n",
       "      <td>-1.180132</td>\n",
       "      <td>0.629657</td>\n",
       "      <td>-0.270320</td>\n",
       "      <td>-0.358406</td>\n",
       "    </tr>\n",
       "    <tr>\n",
       "      <th>8</th>\n",
       "      <td>-1.640854</td>\n",
       "      <td>1.414215</td>\n",
       "      <td>1.815237</td>\n",
       "      <td>0.800051</td>\n",
       "      <td>-0.184421</td>\n",
       "    </tr>\n",
       "    <tr>\n",
       "      <th>9</th>\n",
       "      <td>-0.563268</td>\n",
       "      <td>-1.032878</td>\n",
       "      <td>0.883562</td>\n",
       "      <td>-0.087953</td>\n",
       "      <td>-0.453664</td>\n",
       "    </tr>\n",
       "  </tbody>\n",
       "</table>\n",
       "</div>"
      ],
      "text/plain": [
       "   scaler__f1  scaler__f2  scaler__f3  pca__pca0  pca__pca1\n",
       "0   -0.248730    1.419472    1.041692   0.566558   0.065238\n",
       "1   -1.231671   -0.865211   -1.189537  -0.326067   0.007840\n",
       "2    0.770437    0.721919   -1.313692  -0.080872   0.492691\n",
       "3    1.810983   -0.703230   -0.779846  -0.456381   0.118928\n",
       "4   -0.564940    0.194916    0.048269   0.104292   0.000952\n",
       "5    0.818738   -0.912648   -0.414592  -0.374897  -0.062619\n",
       "6    0.118004    0.943578   -0.720751   0.125587   0.373463\n",
       "7    0.731301   -1.180132    0.629657  -0.270320  -0.358406\n",
       "8   -1.640854    1.414215    1.815237   0.800051  -0.184421\n",
       "9   -0.563268   -1.032878    0.883562  -0.087953  -0.453664"
      ]
     },
     "execution_count": 21,
     "metadata": {},
     "output_type": "execute_result"
    }
   ],
   "source": [
    "X_transformed = feature_union.fit_transform(df.drop(columns=['y']))\n",
    "pd.DataFrame(X_transformed, columns=feature_union.get_feature_names_out())"
   ]
  },
  {
   "cell_type": "code",
   "execution_count": null,
   "metadata": {},
   "outputs": [],
   "source": []
  }
 ],
 "metadata": {
  "kernelspec": {
   "display_name": "Python 3",
   "language": "python",
   "name": "python3"
  },
  "language_info": {
   "codemirror_mode": {
    "name": "ipython",
    "version": 3
   },
   "file_extension": ".py",
   "mimetype": "text/x-python",
   "name": "python",
   "nbconvert_exporter": "python",
   "pygments_lexer": "ipython3",
   "version": "3.9.12"
  }
 },
 "nbformat": 4,
 "nbformat_minor": 2
}
