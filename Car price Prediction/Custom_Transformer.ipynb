{
 "cells": [
  {
   "cell_type": "code",
   "execution_count": 19,
   "metadata": {},
   "outputs": [
    {
     "name": "stdout",
     "output_type": "stream",
     "text": [
      "Predicted class for all test instances: 1\n"
     ]
    }
   ],
   "source": [
    "from sklearn.base import BaseEstimator, ClassifierMixin\n",
    "import numpy as np\n",
    "from sklearn.utils import check_X_y\n",
    "\n",
    "class MostFrequentClassifier(BaseEstimator, ClassifierMixin):\n",
    "    def __init__(self):\n",
    "        self.most_frequent_ = None\n",
    "\n",
    "    def fit(self, X, y):\n",
    "        # Validate the inputs\n",
    "        X, y = check_X_y(X, y)\n",
    "        y = np.ravel(y)\n",
    "        \n",
    "        # Find the most frequent class in y\n",
    "        unique_classes, counts = np.unique(y, return_counts=True)\n",
    "        self.most_frequent_ = unique_classes[np.argmax(counts)]  # Select most frequent class\n",
    "        \n",
    "        return self\n",
    "\n",
    "    def predict(self, X):\n",
    "        if self.most_frequent_ is None:\n",
    "            raise ValueError(\"This classifier instance is not fitted yet.\")\n",
    "        \n",
    "        # Predict the most frequent class for all instances\n",
    "        return np.full(shape=(X.shape[0],), fill_value=self.most_frequent_)\n",
    "\n",
    "# Test the classifier\n",
    "from sklearn.model_selection import train_test_split\n",
    "from sklearn.datasets import load_iris\n",
    "\n",
    "iris = load_iris()\n",
    "X, y = iris.data, iris.target\n",
    "\n",
    "X_train, X_test, y_train, y_test = train_test_split(X, y, random_state=42)\n",
    "classifier = MostFrequentClassifier()\n",
    "classifier.fit(X_train, y_train)\n",
    "predictions = classifier.predict(X_test)\n",
    "\n",
    "print(f\"Predicted class for all test instances: {predictions[0]}\")\n"
   ]
  },
  {
   "cell_type": "code",
   "execution_count": 23,
   "metadata": {},
   "outputs": [
    {
     "data": {
      "text/html": [
       "<div>\n",
       "<style scoped>\n",
       "    .dataframe tbody tr th:only-of-type {\n",
       "        vertical-align: middle;\n",
       "    }\n",
       "\n",
       "    .dataframe tbody tr th {\n",
       "        vertical-align: top;\n",
       "    }\n",
       "\n",
       "    .dataframe thead th {\n",
       "        text-align: right;\n",
       "    }\n",
       "</style>\n",
       "<table border=\"1\" class=\"dataframe\">\n",
       "  <thead>\n",
       "    <tr style=\"text-align: right;\">\n",
       "      <th></th>\n",
       "      <th>crop ID</th>\n",
       "      <th>soil_type</th>\n",
       "      <th>Seedling Stage</th>\n",
       "      <th>MOI</th>\n",
       "      <th>temp</th>\n",
       "      <th>humidity</th>\n",
       "      <th>result</th>\n",
       "    </tr>\n",
       "  </thead>\n",
       "  <tbody>\n",
       "    <tr>\n",
       "      <th>0</th>\n",
       "      <td>Wheat</td>\n",
       "      <td>Black Soil</td>\n",
       "      <td>Germination</td>\n",
       "      <td>1</td>\n",
       "      <td>25</td>\n",
       "      <td>80.0</td>\n",
       "      <td>1</td>\n",
       "    </tr>\n",
       "    <tr>\n",
       "      <th>1</th>\n",
       "      <td>Wheat</td>\n",
       "      <td>Black Soil</td>\n",
       "      <td>Germination</td>\n",
       "      <td>2</td>\n",
       "      <td>26</td>\n",
       "      <td>77.0</td>\n",
       "      <td>1</td>\n",
       "    </tr>\n",
       "  </tbody>\n",
       "</table>\n",
       "</div>"
      ],
      "text/plain": [
       "  crop ID   soil_type Seedling Stage  MOI  temp  humidity  result\n",
       "0   Wheat  Black Soil    Germination    1    25      80.0       1\n",
       "1   Wheat  Black Soil    Germination    2    26      77.0       1"
      ]
     },
     "execution_count": 23,
     "metadata": {},
     "output_type": "execute_result"
    }
   ],
   "source": [
    "import pandas as pd\n",
    "data = pd.read_csv(r\"C:\\Users\\mk744\\OneDrive - Poornima University\\Desktop\\cropdata_updated.csv\")\n",
    "data.head(2)"
   ]
  },
  {
   "cell_type": "code",
   "execution_count": 27,
   "metadata": {},
   "outputs": [
    {
     "data": {
      "text/plain": [
       "0    9062\n",
       "1    6227\n",
       "2    1122\n",
       "Name: result, dtype: int64"
      ]
     },
     "execution_count": 27,
     "metadata": {},
     "output_type": "execute_result"
    }
   ],
   "source": [
    "data['result'].value_counts()"
   ]
  },
  {
   "cell_type": "code",
   "execution_count": 29,
   "metadata": {},
   "outputs": [
    {
     "name": "stdout",
     "output_type": "stream",
     "text": [
      "Predicted class for all test instances: 0\n"
     ]
    }
   ],
   "source": [
    "class MostFrequentCassifier(BaseEstimator, ClassifierMixin):\n",
    "     def __init__(self):\n",
    "          self.most_frequent_ = None\n",
    "          \n",
    "     def fit(self,X, y):\n",
    "          X , y = check_X_y(X, y)\n",
    "          y = np.ravel(y)\n",
    "          \n",
    "          unique_calsses, counts = np.unique(y, return_counts = True)\n",
    "          self.most_frequent_ = unique_calsses[np.argmax(counts)]\n",
    "          return self\n",
    "     \n",
    "     def predict(self, X):\n",
    "          if self.most_frequent_ is None:\n",
    "               raise ValueError(\"This instance is not predict yet.\")\n",
    "          return np.full(shape = (X.shape[0],), fill_value = self.most_frequent_\n",
    "                         )\n",
    "          \n",
    "          \n",
    "import pandas as pd\n",
    "df = pd.read_csv(r\"C:\\Users\\mk744\\OneDrive - Poornima University\\Desktop\\cropdata_updated.csv\")\n",
    "X , y = df['humidity'].values.reshape(-1, 1), df['result']\n",
    "X_train, X_test, y_train, y_test = train_test_split(X, y, random_state=42)\n",
    "Classifier = MostFrequentCassifier()\n",
    "Classifier.fit(X_train, y_train)\n",
    "Predictions = Classifier.predict(X_test)\n",
    "\n",
    "print(f\"Predicted class for all test instances: {Predictions[0]}\")\n",
    "     "
   ]
  },
  {
   "cell_type": "code",
   "execution_count": 30,
   "metadata": {},
   "outputs": [
    {
     "data": {
      "text/plain": [
       "0"
      ]
     },
     "execution_count": 30,
     "metadata": {},
     "output_type": "execute_result"
    }
   ],
   "source": [
    "Classifier.most_frequent_"
   ]
  },
  {
   "cell_type": "code",
   "execution_count": 31,
   "metadata": {},
   "outputs": [
    {
     "data": {
      "text/plain": [
       "array([0.55077173, 0.55077173, 0.55077173, 0.55099553, 0.55099553])"
      ]
     },
     "execution_count": 31,
     "metadata": {},
     "output_type": "execute_result"
    }
   ],
   "source": [
    "from sklearn.model_selection import cross_val_score\n",
    "cross_val_score(Classifier, X_train, y_train)"
   ]
  },
  {
   "cell_type": "code",
   "execution_count": null,
   "metadata": {},
   "outputs": [],
   "source": []
  }
 ],
 "metadata": {
  "kernelspec": {
   "display_name": "Python 3",
   "language": "python",
   "name": "python3"
  },
  "language_info": {
   "codemirror_mode": {
    "name": "ipython",
    "version": 3
   },
   "file_extension": ".py",
   "mimetype": "text/x-python",
   "name": "python",
   "nbconvert_exporter": "python",
   "pygments_lexer": "ipython3",
   "version": "3.9.12"
  }
 },
 "nbformat": 4,
 "nbformat_minor": 2
}
