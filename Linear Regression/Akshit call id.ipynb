{
 "cells": [
  {
   "cell_type": "code",
   "execution_count": 20,
   "metadata": {},
   "outputs": [],
   "source": [
    "import pandas as pd\n",
    "call = pd.read_csv(r\"C:\\Users\\mk744\\Downloads\\Akshit.csv\")"
   ]
  },
  {
   "cell_type": "code",
   "execution_count": 21,
   "metadata": {},
   "outputs": [
    {
     "name": "stdout",
     "output_type": "stream",
     "text": [
      "                              Concatenated\n",
      "call add_akshit_amazon_points('22621944');\n",
      "call add_akshit_amazon_points('22621950');\n",
      "call add_akshit_amazon_points('22621996');\n",
      "call add_akshit_amazon_points('22622095');\n",
      "call add_akshit_amazon_points('22622255');\n",
      "call add_akshit_amazon_points('22622478');\n",
      "call add_akshit_amazon_points('22622480');\n",
      "call add_akshit_amazon_points('22622524');\n",
      "call add_akshit_amazon_points('22623003');\n"
     ]
    },
    {
     "data": {
      "text/plain": [
       "(9, 1)"
      ]
     },
     "execution_count": 21,
     "metadata": {},
     "output_type": "execute_result"
    }
   ],
   "source": [
    "import warnings\n",
    "warnings.filterwarnings('ignore')\n",
    "# Concatenate the function call string with Unique_Id\n",
    "call['Concatenated'] = \"call add_akshit_amazon_points('\" + call['Transaction Id'].astype(str) + \"');\"\n",
    "# Display the new column with concatenated results\n",
    "call_id = call[['Concatenated']]\n",
    "# ans.to_excel('Akshit_Amazon.xlsx', index=False)\n",
    "print(call_id.to_string(index=False))\n",
    "call_id.shape\n",
    "\n"
   ]
  },
  {
   "cell_type": "code",
   "execution_count": 2,
   "metadata": {},
   "outputs": [],
   "source": [
    "import pandas as pd\n",
    "import random\n",
    "\n",
    "# Generate data\n",
    "data = {\n",
    "    \"Student_ID\": [f\"S{str(i).zfill(3)}\" for i in range(1, 51)],\n",
    "    \"Subject\": random.choices([\"Math\", \"Science\", \"English\", \"History\"], k=50),\n",
    "    \"Question_ID\": [f\"Q{random.randint(1, 20)}\" for _ in range(50)],\n",
    "    \"Difficulty_Level\": random.choices([\"Easy\", \"Medium\", \"Hard\"], k=50),\n",
    "    \"Correct_Response\": [random.randint(0, 1) for _ in range(50)],\n",
    "    \"Time_Taken\": [round(random.uniform(10, 300), 2) for _ in range(50)],\n",
    "}\n",
    "\n",
    "# Create a DataFrame\n",
    "df = pd.DataFrame(data)\n",
    "\n",
    "# Display the first few rows of the generated dataset\n",
    "df.to_excel(\"Item_analysis.xlsx\", index=False)\n"
   ]
  },
  {
   "cell_type": "markdown",
   "metadata": {},
   "source": [
    "# EUR"
   ]
  },
  {
   "cell_type": "code",
   "execution_count": 32,
   "metadata": {},
   "outputs": [
    {
     "data": {
      "text/plain": [
       "506.46846"
      ]
     },
     "execution_count": 32,
     "metadata": {},
     "output_type": "execute_result"
    }
   ],
   "source": [
    "5.669 * 89.34"
   ]
  },
  {
   "cell_type": "markdown",
   "metadata": {},
   "source": [
    "# USD"
   ]
  },
  {
   "cell_type": "code",
   "execution_count": 34,
   "metadata": {},
   "outputs": [
    {
     "data": {
      "text/plain": [
       "2239"
      ]
     },
     "execution_count": 34,
     "metadata": {},
     "output_type": "execute_result"
    }
   ],
   "source": [
    "import math\n",
    "int(math.ceil(84.71 * 26.4246))"
   ]
  },
  {
   "cell_type": "code",
   "execution_count": 39,
   "metadata": {},
   "outputs": [
    {
     "data": {
      "text/plain": [
       "117699"
      ]
     },
     "execution_count": 39,
     "metadata": {},
     "output_type": "execute_result"
    }
   ],
   "source": [
    "int(math.floor(117.69999999999999*1000))"
   ]
  },
  {
   "cell_type": "markdown",
   "metadata": {},
   "source": [
    "# SGD"
   ]
  },
  {
   "cell_type": "code",
   "execution_count": 29,
   "metadata": {},
   "outputs": [
    {
     "data": {
      "text/plain": [
       "906"
      ]
     },
     "execution_count": 29,
     "metadata": {},
     "output_type": "execute_result"
    }
   ],
   "source": [
    "int(math.ceil(63.14 * 14.3457))"
   ]
  },
  {
   "cell_type": "markdown",
   "metadata": {},
   "source": [
    "# MYR"
   ]
  },
  {
   "cell_type": "code",
   "execution_count": 14,
   "metadata": {},
   "outputs": [
    {
     "data": {
      "text/plain": [
       "74.06283780000001"
      ]
     },
     "execution_count": 14,
     "metadata": {},
     "output_type": "execute_result"
    }
   ],
   "source": [
    "18.96130 * 3.906"
   ]
  },
  {
   "cell_type": "code",
   "execution_count": 18,
   "metadata": {},
   "outputs": [
    {
     "data": {
      "text/plain": [
       "105481"
      ]
     },
     "execution_count": 18,
     "metadata": {},
     "output_type": "execute_result"
    }
   ],
   "source": [
    "import math\n",
    "int(math.ceil(87277.30597 + 3035.07666 + 74.06283780000001 +15093.93))"
   ]
  },
  {
   "cell_type": "markdown",
   "metadata": {},
   "source": [
    "# zl"
   ]
  },
  {
   "cell_type": "code",
   "execution_count": 8,
   "metadata": {},
   "outputs": [
    {
     "data": {
      "text/plain": [
       "243"
      ]
     },
     "execution_count": 8,
     "metadata": {},
     "output_type": "execute_result"
    }
   ],
   "source": [
    "import math\n",
    "int(math.ceil(11.72 * 20.73))"
   ]
  },
  {
   "cell_type": "code",
   "execution_count": 9,
   "metadata": {},
   "outputs": [
    {
     "data": {
      "text/plain": [
       "135112"
      ]
     },
     "execution_count": 9,
     "metadata": {},
     "output_type": "execute_result"
    }
   ],
   "source": [
    "import math\n",
    "int(math.ceil(25629.18 + 36387.2886 + 72852.29419999999+243))"
   ]
  },
  {
   "cell_type": "code",
   "execution_count": 11,
   "metadata": {},
   "outputs": [
    {
     "data": {
      "text/plain": [
       "6193.96"
      ]
     },
     "execution_count": 11,
     "metadata": {},
     "output_type": "execute_result"
    }
   ],
   "source": [
    "4624.61+214.63+496.51+858.21"
   ]
  },
  {
   "cell_type": "code",
   "execution_count": 1,
   "metadata": {},
   "outputs": [],
   "source": [
    "import pandas as pd\n",
    "import numpy as np\n"
   ]
  },
  {
   "cell_type": "code",
   "execution_count": 2,
   "metadata": {},
   "outputs": [],
   "source": [
    "data = {\"State\":['Alabama', 'Alaska', 'Arizona', 'Arkansas', 'California', 'Colorado', 'Connecticut', 'Delaware'],\n",
    "        \"Population\":[4779736,  710231, 6392017, 2915918, 37253956, 5029196, 3574097, 897934], \n",
    "        \"Murder_rate\":[5.7, 5.6, 4.7, 5.6, 4.4, 2.8, 2.4, 5.8]}"
   ]
  },
  {
   "cell_type": "code",
   "execution_count": 3,
   "metadata": {},
   "outputs": [
    {
     "data": {
      "text/html": [
       "<div>\n",
       "<style scoped>\n",
       "    .dataframe tbody tr th:only-of-type {\n",
       "        vertical-align: middle;\n",
       "    }\n",
       "\n",
       "    .dataframe tbody tr th {\n",
       "        vertical-align: top;\n",
       "    }\n",
       "\n",
       "    .dataframe thead th {\n",
       "        text-align: right;\n",
       "    }\n",
       "</style>\n",
       "<table border=\"1\" class=\"dataframe\">\n",
       "  <thead>\n",
       "    <tr style=\"text-align: right;\">\n",
       "      <th></th>\n",
       "      <th>State</th>\n",
       "      <th>Population</th>\n",
       "      <th>Murder_rate</th>\n",
       "    </tr>\n",
       "  </thead>\n",
       "  <tbody>\n",
       "    <tr>\n",
       "      <th>0</th>\n",
       "      <td>Alabama</td>\n",
       "      <td>4779736</td>\n",
       "      <td>5.7</td>\n",
       "    </tr>\n",
       "    <tr>\n",
       "      <th>1</th>\n",
       "      <td>Alaska</td>\n",
       "      <td>710231</td>\n",
       "      <td>5.6</td>\n",
       "    </tr>\n",
       "    <tr>\n",
       "      <th>2</th>\n",
       "      <td>Arizona</td>\n",
       "      <td>6392017</td>\n",
       "      <td>4.7</td>\n",
       "    </tr>\n",
       "    <tr>\n",
       "      <th>3</th>\n",
       "      <td>Arkansas</td>\n",
       "      <td>2915918</td>\n",
       "      <td>5.6</td>\n",
       "    </tr>\n",
       "    <tr>\n",
       "      <th>4</th>\n",
       "      <td>California</td>\n",
       "      <td>37253956</td>\n",
       "      <td>4.4</td>\n",
       "    </tr>\n",
       "    <tr>\n",
       "      <th>5</th>\n",
       "      <td>Colorado</td>\n",
       "      <td>5029196</td>\n",
       "      <td>2.8</td>\n",
       "    </tr>\n",
       "    <tr>\n",
       "      <th>6</th>\n",
       "      <td>Connecticut</td>\n",
       "      <td>3574097</td>\n",
       "      <td>2.4</td>\n",
       "    </tr>\n",
       "    <tr>\n",
       "      <th>7</th>\n",
       "      <td>Delaware</td>\n",
       "      <td>897934</td>\n",
       "      <td>5.8</td>\n",
       "    </tr>\n",
       "  </tbody>\n",
       "</table>\n",
       "</div>"
      ],
      "text/plain": [
       "         State  Population  Murder_rate\n",
       "0      Alabama     4779736          5.7\n",
       "1       Alaska      710231          5.6\n",
       "2      Arizona     6392017          4.7\n",
       "3     Arkansas     2915918          5.6\n",
       "4   California    37253956          4.4\n",
       "5     Colorado     5029196          2.8\n",
       "6  Connecticut     3574097          2.4\n",
       "7     Delaware      897934          5.8"
      ]
     },
     "execution_count": 3,
     "metadata": {},
     "output_type": "execute_result"
    }
   ],
   "source": [
    "df = pd.DataFrame(data)\n",
    "df"
   ]
  },
  {
   "cell_type": "code",
   "execution_count": 7,
   "metadata": {},
   "outputs": [
    {
     "data": {
      "text/plain": [
       "7694135.625"
      ]
     },
     "execution_count": 7,
     "metadata": {},
     "output_type": "execute_result"
    }
   ],
   "source": [
    "Mean = ((df['Population'].mean()))\n",
    "Mean"
   ]
  },
  {
   "cell_type": "code",
   "execution_count": 9,
   "metadata": {},
   "outputs": [
    {
     "data": {
      "text/plain": [
       "4176916.5"
      ]
     },
     "execution_count": 9,
     "metadata": {},
     "output_type": "execute_result"
    }
   ],
   "source": [
    "Median = df['Population'].median()\n",
    "Median"
   ]
  },
  {
   "cell_type": "code",
   "execution_count": 11,
   "metadata": {},
   "outputs": [
    {
     "data": {
      "text/plain": [
       "7694135.625"
      ]
     },
     "execution_count": 11,
     "metadata": {},
     "output_type": "execute_result"
    }
   ],
   "source": [
    "from scipy.stats import trim_mean\n",
    "trim_percentage = 0.1  # 10%\n",
    "trimmed_mean = trim_mean(df['Population'], proportiontocut=trim_percentage)\n",
    "\n",
    "trimmed_mean\n"
   ]
  },
  {
   "cell_type": "code",
   "execution_count": 18,
   "metadata": {},
   "outputs": [
    {
     "name": "stdout",
     "output_type": "stream",
     "text": [
      "The file 'Item_Test_Discrimination_Index_Formatted.xlsx' has been created successfully!\n"
     ]
    }
   ],
   "source": [
    "from openpyxl import Workbook\n",
    "from openpyxl.styles import Alignment, Font\n",
    "\n",
    "# Create a new workbook and select the active worksheet\n",
    "wb = Workbook()\n",
    "ws = wb.active\n",
    "\n",
    "# Set the title row\n",
    "title = \"ITEM TEST (DISCRIMINATION INDEX)\"\n",
    "ws.merge_cells(\"A1:E1\")\n",
    "ws[\"A1\"].value = title\n",
    "ws[\"A1\"].alignment = Alignment(horizontal=\"center\", vertical=\"center\")\n",
    "ws[\"A1\"].font = Font(bold=True, size=14)\n",
    "\n",
    "# Set column headers\n",
    "headers = [\"Sr. No\", \"UC/LC\", \"Calculation\", \"Result\", \"Status\"]\n",
    "ws.append(headers)\n",
    "\n",
    "# Align and format headers\n",
    "for col in range(1, len(headers) + 1):\n",
    "    cell = ws.cell(row=2, column=col)\n",
    "    cell.alignment = Alignment(horizontal=\"center\", vertical=\"center\")\n",
    "    cell.font = Font(bold=True)\n",
    "\n",
    "# Data to populate the sheet\n",
    "data = [\n",
    "    (1, \"UC 4/4\\nLC 4/4\", \"1-1=0\", 0, \"INCLUDE\"),\n",
    "    (2, \"UC 4/4\\nLC 3/4\", \"1-0.75=0.25\", 0.25, \"INCLUDE\"),\n",
    "    (3, \"UC 0/4\\nLC 1/4\", \"0.25-0=0.25\", 0.25, \"DISCARD\"),\n",
    "    (4, \"UC 0/4\\nLC 1/4\", \"0.25-0=0.25\", 0.25, \"DISCARD\"),\n",
    "    (5, \"UC 0/4\\nLC 0/4\", \"0-0=0\", 0, \"INCLUDE\"),\n",
    "    (6, \"UC 0/4\\nLC 0/4\", \"0-0=0\", 0, \"INCLUDE\"),\n",
    "    (7, \"UC 2/4\\nLC 0/4\", \"0-0.5=0.5\", 0.5, \"REVISE\"),\n",
    "    (8, \"UC 4/4\\nLC 2/4\", \"1-0.5=0.5\", 0.5, \"INCLUDE\"),\n",
    "    (9, \"UC 2/4\\nLC 1/4\", \"0.25-0.5=0.25\", 0.25, \"INCLUDE\"),\n",
    "    (10, \"UC 2/4\\nLC 2/4\", \"0.5-0.5=0\", 0, \"INCLUDE\"),\n",
    "    (11, \"UC 2/4\\nLC 1/4\", \"0.25-0.5=0.25\", 0.25, \"REVISE\"),\n",
    "    (12, \"UC 2/4\\nLC 1/4\", \"0.25-0.5=0.25\", 0.25, \"REVISE\"),\n",
    "    (13, \"UC 4/4\\nLC 0/4\", \"1-0=1\", 1, \"INCLUDE\"),\n",
    "    (14, \"UC 4/4\\nLC 1/4\", \"1-0.25=0.75\", 0.75, \"INCLUDE\"),\n",
    "    (15, \"UC 2/4\\nLC 3/4\", \"0.75-0.5=0.25\", 0.25, \"INCLUDE\"),\n",
    "    (16, \"UC 3/4\\nLC 2/4\", \"0.5-0.75=0.25\", 0.25, \"REVISE\"),\n",
    "    (17, \"UC 2/4\\nLC 2/4\", \"0.5-0.5=0\", 0, \"INCLUDE\"),\n",
    "    (18, \"UC 2/4\\nLC 1/4\", \"0.25-0.5=0.25\", 0.25, \"INCLUDE\"),\n",
    "    (19, \"UC 1/4\\nLC 0/4\", \"0.25-0=0.25\", 0.25, \"INCLUDE\"),\n",
    "    (20, \"UC 2/4\\nLC 1/4\", \"0.25-0.5=0.25\", 0.25, \"INCLUDE\"),\n",
    "    (21, \"UC 2/4\\nLC 3/4\", \"0.75-0.5=0.25\", 0.25, \"INCLUDE\"),\n",
    "    (22, \"UC 3/4\\nLC 4/4\", \"1-0.75=0.25\", 0.25, \"INCLUDE\"),\n",
    "    (23, \"UC 2/4\\nLC 3/4\", \"0.75-0.5=0.25\", 0.25, \"INCLUDE\"),\n",
    "]\n",
    "\n",
    "# Add data to the sheet\n",
    "for row_idx, (sr_no, uc_lc, calculation, result, status) in enumerate(data, start=3):\n",
    "    ws.cell(row=row_idx, column=1, value=sr_no).alignment = Alignment(horizontal=\"center\", vertical=\"center\")\n",
    "    ws.cell(row=row_idx, column=2, value=uc_lc).alignment = Alignment(horizontal=\"center\", vertical=\"center\", wrap_text=True)\n",
    "    ws.cell(row=row_idx, column=3, value=calculation).alignment = Alignment(horizontal=\"center\", vertical=\"center\")\n",
    "    ws.cell(row=row_idx, column=4, value=result).alignment = Alignment(horizontal=\"center\", vertical=\"center\")\n",
    "    ws.cell(row=row_idx, column=5, value=status).alignment = Alignment(horizontal=\"center\", vertical=\"center\")\n",
    "\n",
    "# Set column widths for better readability\n",
    "ws.column_dimensions[\"A\"].width = 8\n",
    "ws.column_dimensions[\"B\"].width = 15\n",
    "ws.column_dimensions[\"C\"].width = 15\n",
    "ws.column_dimensions[\"D\"].width = 10\n",
    "ws.column_dimensions[\"E\"].width = 12\n",
    "\n",
    "# Save the file\n",
    "file_name = \"Item_Test_Discrimination_Index_Formatted.xlsx\"\n",
    "wb.save(file_name)\n",
    "\n",
    "print(f\"The file '{file_name}' has been created successfully!\")\n"
   ]
  },
  {
   "cell_type": "code",
   "execution_count": 19,
   "metadata": {},
   "outputs": [
    {
     "name": "stdout",
     "output_type": "stream",
     "text": [
      "The file 'Discrimination_Index.xlsx' has been created successfully!\n"
     ]
    }
   ],
   "source": [
    "from openpyxl import Workbook\n",
    "from openpyxl.styles import Alignment, Font\n",
    "\n",
    "# Create a new workbook and select the active worksheet\n",
    "wb = Workbook()\n",
    "ws = wb.active\n",
    "\n",
    "# Set the title row\n",
    "title = \"ITEM TEST (DISCRIMINATION INDEX)\"\n",
    "ws.merge_cells(\"A1:E1\")\n",
    "ws[\"A1\"].value = title\n",
    "ws[\"A1\"].alignment = Alignment(horizontal=\"center\", vertical=\"center\")\n",
    "ws[\"A1\"].font = Font(bold=True, size=14)\n",
    "\n",
    "# Set column headers\n",
    "headers = [\"Sr. No\", \"UC/LC\", \"Calculation\", \"Result\", \"Status\"]\n",
    "ws.append(headers)\n",
    "\n",
    "# Align and format headers\n",
    "for col in range(1, len(headers) + 1):\n",
    "    cell = ws.cell(row=2, column=col)\n",
    "    cell.alignment = Alignment(horizontal=\"center\", vertical=\"center\")\n",
    "    cell.font = Font(bold=True)\n",
    "\n",
    "# Data to populate the sheet\n",
    "data = [\n",
    "    (1, \"UC 4/4\\nLC 4/4\", \"1-1=0\", 0, \"INCLUDE\"),\n",
    "    (2, \"UC 4/4\\nLC 3/4\", \"1-0.75=0.25\", 0.25, \"INCLUDE\"),\n",
    "    (3, \"UC 0/4\\nLC 1/4\", \"0.25-0=0.25\", 0.25, \"DISCARD\"),\n",
    "    (4, \"UP 0/4\\nLW 1/4\", \"0.25-0=0.25\", 0.25, \"DISCARD\"),\n",
    "    (5, \"UC 0/4\\nLC 0/4\", \"0-0=0\", 0, \"INCLUDE\"),\n",
    "    (6, \"UC 0/4\\nLC 0/4\", \"0-0=0\", 0, \"INCLUDE\"),\n",
    "    (7, \"UC 2/4\\nLC 0/4\", \"0-0.5=0.5\", 0.5, \"REVISE\"),\n",
    "    (8, \"UC 4/4\\nLC 2/4\", \"1-0.5=0.5\", 0.5, \"INCLUDE\"),\n",
    "    (9, \"UC 2/4\\nLC 1/4\", \"0.25-0.5=0.25\", 0.25, \"INCLUDE\"),\n",
    "    (10, \"UC 2/4\\nLC 2/4\", \"0.5-0.5=0\", 0, \"INCLUDE\"),\n",
    "    (11, \"UC 2/4\\nLW 1/4\", \"0.25-0.5=0.25\", 0.25, \"REVISE\"),\n",
    "    (12, \"UC 2/4\\nLC 1/4\", \"0.25-0.5=0.25\", 0.25, \"REVISE\"),\n",
    "    (13, \"UC 4/4\\nLC 0/4\", \"1-0=1\", 1, \"INCLUDE\"),\n",
    "    (14, \"UC 4/4\\nLW 1/4\", \"1-0.25=0.75\", 0.75, \"INCLUDE\"),\n",
    "    (15, \"UC 2/4\\nLC 3/4\", \"0.75-0.5=0.25\", 0.25, \"INCLUDE\"),\n",
    "    (16, \"UC 3/4\\nLW 2/4\", \"0.5-0.75=0.25\", 0.25, \"REVISE\"),\n",
    "    (17, \"UC 2/4\\nLC 2/4\", \"0.5-0.5=0\", 0, \"INCLUDE\"),\n",
    "    (18, \"UC 2/4\\nLC 1/4\", \"0.25-0.5=0.25\", 0.25, \"INCLUDE\"),\n",
    "    (19, \"UC 1/4\\nLC 0/4\", \"0.25-0=0.25\", 0.25, \"INCLUDE\"),\n",
    "    (20, \"UC 2/4\\nLC 1/4\", \"0.25-0.5=0.25\", 0.25, \"INCLUDE\"),\n",
    "    (21, \"UC 2/4\\nLC 3/4\", \"0.75-0.5=0.25\", 0.25, \"INCLUDE\"),\n",
    "    (22, \"UC 3/4\\nLC 4/4\", \"1-0.75=0.25\", 0.25, \"INCLUDE\"),\n",
    "    (23, \"UC 2/4\\nLC 3/4\", \"0.75-0.5=0.25\", 0.25, \"INCLUDE\"),\n",
    "    (24, \"UC 2/4\\nLC 1/4\", \"0.25-0.5=0.25\", 0.25, \"INCLUDE\"),\n",
    "    (25, \"UC 1/4\\nLC 1/4\", \"0.25-0.25=0\", 0, \"INCLUDE\"),\n",
    "    (26, \"UC 3/4\\nLC 0/4\", \"0-0.75=0.75\", 0.75, \"INCLUDE\"),\n",
    "    (27, \"UC 4/4\\nLC 2/4\", \"1-0.5=0.5\", 0.5, \"INCLUDE\"),\n",
    "    (28, \"UC 3/4\\nLC 3/4\", \"0.75-0.75=0\", 0, \"INCLUDE\"),\n",
    "    (29, \"UC 4/4\\nLC 3/4\", \"1-0.75=0.25\", 0.25, \"INCLUDE\"),\n",
    "    (30, \"UC 2/4\\nLC 2/4\", \"0.5-0.5=0\", 0, \"INCLUDE\"),\n",
    "    (31, \"UC 2/4\\nLC 2/4\", \"0.5-0.5=0\", 0, \"INCLUDE\"),\n",
    "    (32, \"UC 4/4\\nLC 1/4\", \"1-0.25=0.75\", 0.75, \"INCLUDE\"),\n",
    "    (33, \"UC 3/4\\nLC 1/4\", \"0.25-0.75=0.5\", 0.5, \"REVISE\"),\n",
    "    (34, \"UC 3/4\\nLC 0/4\", \"0-0.75=0.75\", 0.75, \"INCLUDE\"),\n",
    "    (35, \"UC 1/4\\nLC 1/4\", \"0.25-0.25=0\", 0, \"INCLUDE\"),\n",
    "]\n",
    "\n",
    "# Add data to the sheet\n",
    "for row_idx, (sr_no, uc_lc, calculation, result, status) in enumerate(data, start=3):\n",
    "    ws.cell(row=row_idx, column=1, value=sr_no).alignment = Alignment(horizontal=\"center\", vertical=\"center\")\n",
    "    ws.cell(row=row_idx, column=2, value=uc_lc).alignment = Alignment(horizontal=\"center\", vertical=\"center\", wrap_text=True)\n",
    "    ws.cell(row=row_idx, column=3, value=calculation).alignment = Alignment(horizontal=\"center\", vertical=\"center\")\n",
    "    ws.cell(row=row_idx, column=4, value=result).alignment = Alignment(horizontal=\"center\", vertical=\"center\")\n",
    "    ws.cell(row=row_idx, column=5, value=status).alignment = Alignment(horizontal=\"center\", vertical=\"center\")\n",
    "\n",
    "# Set column widths for better readability\n",
    "ws.column_dimensions[\"A\"].width = 8\n",
    "ws.column_dimensions[\"B\"].width = 15\n",
    "ws.column_dimensions[\"C\"].width = 20\n",
    "ws.column_dimensions[\"D\"].width = 10\n",
    "ws.column_dimensions[\"E\"].width = 12\n",
    "\n",
    "# Save the file\n",
    "file_name = \"Discrimination_Index.xlsx\"\n",
    "wb.save(file_name)\n",
    "\n",
    "print(f\"The file '{file_name}' has been created successfully!\")\n"
   ]
  },
  {
   "cell_type": "code",
   "execution_count": null,
   "metadata": {},
   "outputs": [],
   "source": []
  }
 ],
 "metadata": {
  "kernelspec": {
   "display_name": "base",
   "language": "python",
   "name": "python3"
  },
  "language_info": {
   "codemirror_mode": {
    "name": "ipython",
    "version": 3
   },
   "file_extension": ".py",
   "mimetype": "text/x-python",
   "name": "python",
   "nbconvert_exporter": "python",
   "pygments_lexer": "ipython3",
   "version": "3.12.4"
  }
 },
 "nbformat": 4,
 "nbformat_minor": 2
}
